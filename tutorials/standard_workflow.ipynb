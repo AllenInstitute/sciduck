{
 "cells": [
  {
   "cell_type": "code",
   "execution_count": null,
   "metadata": {},
   "outputs": [],
   "source": [
    "import scanpy as sc\n",
    "import sciduck as sd"
   ]
  },
  {
   "cell_type": "markdown",
   "metadata": {},
   "source": [
    "## Load in raw data"
   ]
  },
  {
   "cell_type": "code",
   "execution_count": null,
   "metadata": {},
   "outputs": [],
   "source": [
    "adata = ad.read_h5ad(\"/path/to/h5ad\")"
   ]
  },
  {
   "cell_type": "markdown",
   "metadata": {},
   "source": [
    "## Standard scanpy preprocessing"
   ]
  },
  {
   "cell_type": "code",
   "execution_count": null,
   "metadata": {},
   "outputs": [],
   "source": [
    "## Normalize the count matrix after storing the raw counts in the raw slot\n",
    "adata.raw = adata\n",
    "sc.pp.highly_variable_genes(adata, n_top_genes=4000, subset=False, layer=None, flavor='seurat_v3', batch_key='donor_name')\n",
    "sc.pp.normalize_total(adata, target_sum=1e6)\n",
    "sc.pp.log1p(adata)\n",
    "\n",
    "## Calculate some basic QC metrics around UMI and gene counts\n",
    "sc.pp.calculate_qc_metrics(adata, inplace=True)\n",
    "\n",
    "## Compute clusters for use later\n",
    "sc.tl.pca(adata, svd_solver='arpack', use_highly_variable=True)\n",
    "sc.pp.neighbors(adata, n_neighbors=10, n_pcs=40)\n",
    "sc.tl.leiden(adata, flavor=\"igraph\", n_iterations=2)"
   ]
  },
  {
   "cell_type": "markdown",
   "metadata": {},
   "source": [
    "## Basic quality control (`sciduck`)"
   ]
  },
  {
   "cell_type": "code",
   "execution_count": null,
   "metadata": {},
   "outputs": [],
   "source": [
    "## Filter cells/nuclei on UMI and gene count thresholds, showing the default values.\n",
    "sd.qc.add_range_constraint(adata, column=\"counts\", gt=2000, lt=100000)\n",
    "sd.qc.add_range_constraint(adata, column=\"genes\", gt=1000, lt=13000)\n",
    "\n",
    "## Apply the constraints\n",
    "sd.qc.apply_constraints(adata)\n",
    "adata.obs.keeper_cells.value_counts()"
   ]
  },
  {
   "cell_type": "markdown",
   "metadata": {},
   "source": [
    "Now lets perform quality control using additional quality control metrics such as doublet_score."
   ]
  },
  {
   "cell_type": "code",
   "execution_count": null,
   "metadata": {},
   "outputs": [],
   "source": [
    "## Filter cells/nuclei on mitochondrial gene expression, showing the default values.\n",
    "sd.qc.add_range_constraint(adata, column=\"doublet_score\", lt = 0.3)\n",
    "sd.qc.add_range_constraint(adata, column=\"pct_counts_mt\", lt = 3.0)\n",
    "sd.qc.add_range_constraint(adata, column=\"GEX_Reads_mapped_confidently_to_genome\", gt = 0.0)\n",
    "sd.qc.add_range_constraint(adata, column=\"GEX_Reads_mapped_to_genome\", gt = 0.0)\n",
    "sd.qc.add_range_constraint(adata, column=\"GEX_Reads_with_TSO\", lt = 1.0)\n",
    "\n",
    "## Apply the constraints\n",
    "sd.qc.apply_constraints(adata)\n",
    "adata.obs.keeper_cells.value_counts()"
   ]
  },
  {
   "cell_type": "markdown",
   "metadata": {},
   "source": [
    "## Quality control involving coarse labels (Neuron / Non-neuron)"
   ]
  },
  {
   "cell_type": "code",
   "execution_count": null,
   "metadata": {},
   "outputs": [],
   "source": [
    "## Neuron / Non-Neuron QC constraints\n",
    "sd.qc.add_range_constraint(adata, \n",
    "                        column = \"genes\", ## What does the contraint apply to?\n",
    "                        gt = 2000, ## Only keep cells with more than 2000 genes\n",
    "                        lt = 13000, ## Only keep cells with less than 13000 genes\n",
    "                        subset = \"Class\", \n",
    "                        subset_values = ['Excitatory', 'Inhibitory'])\n",
    "sd.qc.add_range_constraint(adata, \n",
    "                        column = \"genes\", \n",
    "                        gt = 1000, ## Only keep cells with more than 1000 genes\n",
    "                        lt = 13000, ## Only keep cells with less than 1e6 genes\n",
    "                        subset = \"Class\", \n",
    "                        subset_values = ['Astrocytes', 'Oligodendrocytes', 'Microglia', 'Endothelial', 'Pericytes'])\n",
    "\n",
    "## Apply the constraints\n",
    "sd.qc.apply_constraints(adata)\n",
    "adata.obs.keeper_cells.value_counts()"
   ]
  },
  {
   "cell_type": "markdown",
   "metadata": {},
   "source": [
    "## Quality control involving clusters"
   ]
  },
  {
   "cell_type": "code",
   "execution_count": null,
   "metadata": {},
   "outputs": [],
   "source": [
    "## Lets use our clusters to perform quality control based on cluster median values\n",
    "## It's helpful to have visualized the cluster median valudes before setting these thresholds\n",
    "sd.qc.add_group_level_constraint(adata, \n",
    "                                    column=\"doublet_score\", \n",
    "                                    groupby = \"leiden\", \n",
    "                                    lt=0.2, \n",
    "                                    agg_func = \"median\")\n",
    "sd.qc.add_group_level_constraint(adata, \n",
    "                                    column=\"total_counts\", \n",
    "                                    groupby = \"leiden\", \n",
    "                                    lt=2e5, \n",
    "                                    agg_func = \"median\")\n",
    "\n",
    "## Apply the constraints\n",
    "sd.qc.apply_constraints(adata)\n",
    "adata.obs.keeper_cells.value_counts()"
   ]
  }
 ],
 "metadata": {
  "language_info": {
   "name": "python"
  }
 },
 "nbformat": 4,
 "nbformat_minor": 2
}
