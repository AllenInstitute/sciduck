{
 "cells": [
  {
   "cell_type": "code",
   "execution_count": null,
   "metadata": {},
   "outputs": [],
   "source": [
    "import scanpy as sc\n",
    "import sciduck as sd"
   ]
  },
  {
   "cell_type": "markdown",
   "metadata": {},
   "source": [
    "## Load in raw data"
   ]
  },
  {
   "cell_type": "code",
   "execution_count": null,
   "metadata": {},
   "outputs": [],
   "source": [
    "adata = ad.read_h5ad(\"/path/to/h5ad\")"
   ]
  },
  {
   "cell_type": "markdown",
   "metadata": {},
   "source": [
    "## Standard scanpy preprocessing"
   ]
  },
  {
   "cell_type": "code",
   "execution_count": null,
   "metadata": {},
   "outputs": [],
   "source": [
    "## Normalize the count matrix after storing the raw counts in the raw slot\n",
    "adata.raw = adata\n",
    "sc.pp.normalize_total(adata, target_sum=1e6)\n",
    "sc.pp.log1p(adata)\n",
    "\n",
    "## Calculate some basic QC metrics around UMI and gene counts\n",
    "sc.pp.calculate_qc_metrics(adata, inplace=True)\n",
    "\n",
    "## Compute clusters for use later\n",
    "sc.tl.pca(adata, svd_solver='arpack', use_highly_variable=True)\n",
    "sc.pp.neighbors(adata, n_neighbors=10, n_pcs=40)\n",
    "sc.tl.leiden(adata, flavor=\"igraph\", n_iterations=2)\n"
   ]
  },
  {
   "cell_type": "markdown",
   "metadata": {},
   "source": [
    "## Basic quality control (`sciduck`)"
   ]
  },
  {
   "cell_type": "code",
   "execution_count": null,
   "metadata": {},
   "outputs": [],
   "source": [
    "## Filter cells/nuclei on UMI and gene count thresholds, showing the default values.\n",
    "sd.qc.add_range_constraint(adata, column=\"counts\", gt=2000, lt=100000)\n",
    "sd.qc.add_range_constraint(adata, column=\"genes\", gt=1000, lt=13000)\n",
    "\n",
    "##\n",
    "sd.qc.apply_constraints(adata)\n",
    "adata.obs.keeper_cells.value_counts()"
   ]
  },
  {
   "cell_type": "markdown",
   "metadata": {},
   "source": [
    "Describe whats happening!"
   ]
  },
  {
   "cell_type": "code",
   "execution_count": null,
   "metadata": {},
   "outputs": [],
   "source": [
    "## Filter cells/nuclei on mitochondrial gene expression, showing the default values.\n",
    "sd.qc.add_range_constraint(adata, column=\"doublet_score\", lt = 0.3)\n",
    "sd.qc.add_range_constraint(adata, column=\"pct_counts_mt\", lt = 3.0)\n",
    "sd.qc.add_range_constraint(adata, column=\"GEX_Reads_mapped_confidently_to_genome\", gt = 0.0)\n",
    "sd.qc.add_range_constraint(adata, column=\"GEX_Reads_mapped_to_genome\", gt = 0.0)\n",
    "sd.qc.add_range_constraint(adata, column=\"GEX_Reads_with_TSO\", lt = 1.0)\n",
    "\n",
    "##\n",
    "sd.qc.apply_constraints(adata)\n",
    "adata.obs.keeper_cells.value_counts()"
   ]
  },
  {
   "cell_type": "markdown",
   "metadata": {},
   "source": [
    "## Quality control involving coarse labels (Neuron / Non-neuron)"
   ]
  },
  {
   "cell_type": "code",
   "execution_count": null,
   "metadata": {},
   "outputs": [],
   "source": [
    "## Neuron / Non-Neuron QC constraints\n",
    "sd.qc.add_range_constraint(adata, \n",
    "                        column = \"genes\", \n",
    "                        gt = 2000, \n",
    "                        subset = \"Class\", \n",
    "                        subset_values = ['Excitatory', 'Inhibitory'])\n",
    "sd.qc.add_range_constraint(adata, \n",
    "                        column = \"genes\", \n",
    "                        gt = 1000, \n",
    "                        subset = \"Class\", \n",
    "                        subset_values = ['Astrocytes', 'Oligodendrocytes', 'Microglia', 'Endothelial', 'Pericytes'])\n",
    "\n",
    "##\n",
    "sd.qc.apply_constraints(adata)\n",
    "adata.obs.keeper_cells.value_counts()"
   ]
  }
 ],
 "metadata": {
  "language_info": {
   "name": "python"
  }
 },
 "nbformat": 4,
 "nbformat_minor": 2
}
