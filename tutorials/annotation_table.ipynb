{
 "cells": [
  {
   "cell_type": "code",
   "execution_count": null,
   "metadata": {},
   "outputs": [],
   "source": [
    "import scanpy as sc\n",
    "import sciduck as sd"
   ]
  },
  {
   "cell_type": "markdown",
   "metadata": {},
   "source": [
    "## Load in processed data we are looking to annotate"
   ]
  },
  {
   "cell_type": "code",
   "execution_count": null,
   "metadata": {},
   "outputs": [],
   "source": [
    "adata = ad.read_h5ad(\"/path/to/h5ad\")"
   ]
  },
  {
   "cell_type": "markdown",
   "metadata": {},
   "source": [
    "## Create the annotation table for taxonomy development"
   ]
  },
  {
   "cell_type": "code",
   "execution_count": null,
   "metadata": {},
   "outputs": [],
   "source": [
    "## Lets gather columns to put into annotation table\n",
    "anno = adata.obs.columns[adata.obs.columns.str.contains(\"|\".join([\"MY_CELLTYPE_LABELS\", \"OTHER_CELLTYPE_LABELS\"]), regex=True)].tolist()\n",
    "meta = [\"donor_name\", \"anatomical_region\", \"sex\", \"age\", \"barcoded_cell_sample_label\"]\n",
    "\n",
    "## Lets build annotation table\n",
    "anno_table = sd.anno.build_annotation_table(adata, \n",
    "                                    group_by=\"cluster\", \n",
    "                                    categorical_annotations=anno + meta,\n",
    "                                    numeric_annotations=[\"doublet_score\", \"total_genes\", \"total_counts\", \"percent_keeper\"], \n",
    "                                    min_percent=0.05, \n",
    "                                    annotation_alerts={\"donor_name\": 0.90})\n",
    "anno_table.to_csv(os.path.join(work_dir, f\"{species}_{pipeline}_consensus_anno_table.csv\"))"
   ]
  }
 ],
 "metadata": {
  "language_info": {
   "name": "python"
  }
 },
 "nbformat": 4,
 "nbformat_minor": 2
}
